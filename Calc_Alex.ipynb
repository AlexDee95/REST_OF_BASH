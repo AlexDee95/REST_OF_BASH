{
 "cells": [
  {
   "cell_type": "code",
   "execution_count": 9,
   "id": "993d9381",
   "metadata": {},
   "outputs": [],
   "source": [
    "def Calculator():\n",
    "\n",
    "    x = input(\"Die erste Zahl lautet: \")\n",
    "    x = int (x)\n",
    "\n",
    "    a = input (\"Willst du noch eine zweite Zahl angeben? (j/n) Wenn du nur eine Zahl angibst, kannst du sie quadrieren oder ihre \\n Wurzel ziehen. Falls du zwei angibst, kannst du beide addieren, die zweite von der ersten subtrahieren, beide \\n multiplizieren oder die erste durch die zweite dividieren.\")\n",
    "\n",
    "    if a == \"j\":\n",
    "        y = input(\"Die zweite Zahl lautet: \")\n",
    "        y = int (y)\n",
    "        z = input(\"Was soll gemacht werden? Addieren/ Subtrahieren/ Multiplizieren/ Dividieren?\")\n",
    "\n",
    "    if a == \"n\":\n",
    "        z = input(\"Was soll gemacht werden? Quadrieren/ Wurzel ziehen?\")\n",
    "\n",
    "    if z == \"Addieren\":\n",
    "        e = x+y\n",
    "        print(\"Das Ergebnis lautet: \",(e))\n",
    "\n",
    "    if z == \"Subtrahieren\":\n",
    "        e = x-y\n",
    "        print(\"Das Ergebnis lautet: \",(e))\n",
    "\n",
    "    if z == \"Multiplizieren\":\n",
    "        e = x*y\n",
    "        print(\"Das Ergebnis lautet: \",(e))\n",
    "\n",
    "    if z == \"Dividieren\":\n",
    "        if y == 0:\n",
    "            print (\"Dividieren durch 0 ist nicht möglich.\")\n",
    "        else:\n",
    "            e = x/y\n",
    "            print(\"Das Ergebnis lautet: \",(e))\n",
    "\n",
    "    if z == \"Quadrieren\":\n",
    "        e = pow (x, x)\n",
    "        print(\"Das Ergebnis lautet: \",(e))\n",
    "    \n",
    "    if z == \"Wurzel ziehen\":\n",
    "        import math\n",
    "        e = math.sqrt (x)\n",
    "        print(\"Das Ergebnis lautet: \",(e))"
   ]
  },
  {
   "cell_type": "code",
   "execution_count": 10,
   "id": "a87fb1ae",
   "metadata": {},
   "outputs": [
    {
     "name": "stdout",
     "output_type": "stream",
     "text": [
      "Die erste Zahl lautet: 10\n",
      "Willst du noch eine zweite Zahl angeben? (j/n) Wenn du nur eine Zahl angibst, kannst du sie quadrieren oder ihre \n",
      " Wurzel ziehen. Falls du zwei angibst, kannst du beide addieren, die zweite von der ersten subtrahieren, beide \n",
      " multiplizieren oder die erste durch die zweite dividieren.j\n",
      "Die zweite Zahl lautet: 0\n",
      "Was soll gemacht werden? Addieren/ Subtrahieren/ Multiplizieren/ Dividieren?Dividieren\n",
      "Dividieren durch 0 ist nicht möglich\n"
     ]
    }
   ],
   "source": [
    "Calculator()"
   ]
  }
 ],
 "metadata": {
  "kernelspec": {
   "display_name": "Python 3",
   "language": "python",
   "name": "python3"
  },
  "language_info": {
   "codemirror_mode": {
    "name": "ipython",
    "version": 3
   },
   "file_extension": ".py",
   "mimetype": "text/x-python",
   "name": "python",
   "nbconvert_exporter": "python",
   "pygments_lexer": "ipython3",
   "version": "3.8.5"
  }
 },
 "nbformat": 4,
 "nbformat_minor": 5
}
