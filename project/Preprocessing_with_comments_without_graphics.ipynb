{
 "cells": [
  {
   "cell_type": "markdown",
   "id": "2b129615",
   "metadata": {},
   "source": [
    "# Preprocessing of EEG data"
   ]
  },
  {
   "cell_type": "markdown",
   "id": "71e38673",
   "metadata": {},
   "source": [
    "to analyze the EEG data, we want to use the MNE template"
   ]
  },
  {
   "cell_type": "code",
   "execution_count": null,
   "id": "f991df43",
   "metadata": {},
   "outputs": [],
   "source": [
    "import numpy as np\n",
    "import mne\n",
    "from mne.channels import make_standard_montage\n",
    "from mne.io import read_raw_edf\n",
    "from mne.viz import plot_events \n",
    "from mne import find_events"
   ]
  },
  {
   "cell_type": "code",
   "execution_count": null,
   "id": "784cd7c9",
   "metadata": {},
   "outputs": [],
   "source": [
    "#check mne info\n",
    "mne.sys_info()"
   ]
  },
  {
   "cell_type": "code",
   "execution_count": null,
   "id": "48483cf5",
   "metadata": {},
   "outputs": [],
   "source": [
    "#define path to data files\n",
    "fname = \"/mnt/c/Users/anna-/Desktop/HC\""
   ]
  },
  {
   "cell_type": "code",
   "execution_count": null,
   "id": "c67f5dba",
   "metadata": {},
   "outputs": [],
   "source": [
    "#check general data attributes, here \"s01\" as example\n",
    "data = read_raw_edf(fname + \"/s01.edf\")\n",
    "data.info"
   ]
  },
  {
   "cell_type": "code",
   "execution_count": null,
   "id": "866b7bce",
   "metadata": {},
   "outputs": [],
   "source": [
    "#show electrode arrangement of gathered eeg data -> 19 electrodes according to 10-20-system\n",
    "montage = make_standard_montage(kind=\"standard_1020\")\n",
    "data.set_montage(montage)\n",
    "data.plot_sensors();"
   ]
  },
  {
   "cell_type": "code",
   "execution_count": null,
   "id": "ee4fc596",
   "metadata": {},
   "outputs": [],
   "source": [
    "#show complete data of \"s01\", power for all frequencies over the whole time\n",
    "data.plot_psd(average=True);"
   ]
  },
  {
   "cell_type": "code",
   "execution_count": null,
   "id": "00efe653",
   "metadata": {},
   "outputs": [],
   "source": [
    "#show data of \"s01\" but only until 50 Hz \n",
    "data.plot_psd(average=True,fmax=50);"
   ]
  },
  {
   "cell_type": "code",
   "execution_count": null,
   "id": "00d21c69",
   "metadata": {},
   "outputs": [],
   "source": [
    "#show data of \"s01\" until 50 Hz but not as average but the signal for every single electrode \n",
    "data.plot_psd(average=False, fmax=50);"
   ]
  },
  {
   "cell_type": "code",
   "execution_count": null,
   "id": "ecb3d721",
   "metadata": {},
   "outputs": [],
   "source": [
    "#show detailed signal for every channel over the whole time\n",
    "%matplotlib notebook\n",
    "data.plot(n_channels=19, scalings=dict(eeg=1e-4));"
   ]
  },
  {
   "cell_type": "code",
   "execution_count": null,
   "id": "8a3f224b",
   "metadata": {},
   "outputs": [],
   "source": [
    "#filter data with bandpass filter between 5 and 45 Hz\n",
    "raw = data\n",
    "raw.load_data()\n",
    "raw.filter(l_freq=0.5,h_freq=45.0,\n",
    "filter_length='auto',\n",
    "l_trans_bandwidth='auto',\n",
    "h_trans_bandwidth='auto',\n",
    "method='fir',\n",
    "phase='zero',\n",
    "fir_window='hamming',\n",
    "fir_design='firwin')"
   ]
  }
 ],
 "metadata": {
  "kernelspec": {
   "display_name": "Python 3",
   "language": "python",
   "name": "python3"
  },
  "language_info": {
   "codemirror_mode": {
    "name": "ipython",
    "version": 3
   },
   "file_extension": ".py",
   "mimetype": "text/x-python",
   "name": "python",
   "nbconvert_exporter": "python",
   "pygments_lexer": "ipython3",
   "version": "3.8.5"
  }
 },
 "nbformat": 4,
 "nbformat_minor": 5
}
