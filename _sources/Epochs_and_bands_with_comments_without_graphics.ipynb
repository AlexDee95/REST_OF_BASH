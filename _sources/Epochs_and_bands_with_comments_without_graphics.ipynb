{
 "cells": [
  {
   "cell_type": "markdown",
   "id": "ea002632",
   "metadata": {},
   "source": [
    "# Epochs and bands"
   ]
  },
  {
   "cell_type": "code",
   "execution_count": null,
   "id": "959c2946",
   "metadata": {},
   "outputs": [],
   "source": [
    "from mne.io import read_raw_fif\n",
    "from mne import Epochs\n",
    "from mne import make_fixed_length_epochs"
   ]
  },
  {
   "cell_type": "code",
   "execution_count": null,
   "id": "175aff99",
   "metadata": {},
   "outputs": [],
   "source": [
    "#load average delta activation for every person and define minimum/ maximum power frame\n",
    "for file in files:\n",
    "    data = read_raw_fif(file, preload=True)\n",
    "    epochs = make_fixed_length_epochs(data, duration=2.0, preload=True)\n",
    "    epochs.plot_psd_topomap(bands=[(0,4, \"Delta\")], ch_type=\"eeg\", normalize=True, dB=True, vlim=(0.1, 0.7));"
   ]
  },
  {
   "cell_type": "code",
   "execution_count": null,
   "id": "9c0eeea4",
   "metadata": {},
   "outputs": [],
   "source": [
    "#load average theta activation for every person and define minimum/ maximum power frame\n",
    "for file in files:\n",
    "    data = read_raw_fif(file, preload=True)\n",
    "    epochs = make_fixed_length_epochs(data, duration=2.0, preload=True)\n",
    "    epochs.plot_psd_topomap(bands=[(4,8, \"Theta\")], ch_type=\"eeg\", normalize=True, dB=True, vlim=(0.1, 0.2));"
   ]
  },
  {
   "cell_type": "code",
   "execution_count": null,
   "id": "e47c99b2",
   "metadata": {},
   "outputs": [],
   "source": [
    "#load average alpha activation for every person and define minimum/ maximum power frame\n",
    "for file in files:\n",
    "    data = read_raw_fif(file, preload=True)\n",
    "    epochs = make_fixed_length_epochs(data, duration=2.0, preload=True)\n",
    "    epochs.plot_psd_topomap(bands=[(8,12, \"Alpha\")], ch_type=\"eeg\", normalize=True, dB=True, vlim=(0.1, 0.5));"
   ]
  },
  {
   "cell_type": "code",
   "execution_count": null,
   "id": "839bfc34",
   "metadata": {},
   "outputs": [],
   "source": [
    "#load average beta activation for every person and define minimum/ maximum power frame\n",
    "for file in files:\n",
    "    data = read_raw_fif(file, preload=True)\n",
    "    epochs = make_fixed_length_epochs(data, duration=2.0, preload=True)\n",
    "    epochs.plot_psd_topomap(bands=[(12,30, \"Beta\")], ch_type=\"eeg\", normalize=True, dB=True, vlim=(0.1, 0.4));"
   ]
  },
  {
   "cell_type": "code",
   "execution_count": null,
   "id": "50efc39e",
   "metadata": {},
   "outputs": [],
   "source": [
    "#load average gamma activation for every person and define minimum/ maximum power frame\n",
    "for file in files:\n",
    "    data = read_raw_fif(file, preload=True)\n",
    "    epochs = make_fixed_length_epochs(data, duration=2.0, preload=True)\n",
    "    epochs.plot_psd_topomap(bands=[(30,45, \"Gamma\")], ch_type=\"eeg\", normalize=True, dB=True, vlim=(0.0, 0.2));"
   ]
  },
  {
   "cell_type": "code",
   "execution_count": null,
   "id": "d0e09260",
   "metadata": {},
   "outputs": [],
   "source": [
    "#load all filtered and preprocessed eeg/ .fif files for every person\n",
    "files = [\"/mnt/c/Users/anna-/Desktop/reconst_raw/h01-raw.fif\",\n",
    "         \"/mnt/c/Users/anna-/Desktop/reconst_raw/h02-raw.fif\",\n",
    "         \"/mnt/c/Users/anna-/Desktop/reconst_raw/h03-raw.fif\",\n",
    "         \"/mnt/c/Users/anna-/Desktop/reconst_raw/h04-raw.fif\",\n",
    "         \"/mnt/c/Users/anna-/Desktop/reconst_raw/h05-raw.fif\",\n",
    "         \"/mnt/c/Users/anna-/Desktop/reconst_raw/h06-raw.fif\",\n",
    "         \"/mnt/c/Users/anna-/Desktop/reconst_raw/h07-raw.fif\",\n",
    "         \"/mnt/c/Users/anna-/Desktop/reconst_raw/h08-raw.fif\",\n",
    "         \"/mnt/c/Users/anna-/Desktop/reconst_raw/h09-raw.fif\",\n",
    "         \"/mnt/c/Users/anna-/Desktop/reconst_raw/h10-raw.fif\",\n",
    "         \"/mnt/c/Users/anna-/Desktop/reconst_raw/h11-raw.fif\",\n",
    "         \"/mnt/c/Users/anna-/Desktop/reconst_raw/h12-raw.fif\",\n",
    "         \"/mnt/c/Users/anna-/Desktop/reconst_raw/h13-raw.fif\",\n",
    "         \"/mnt/c/Users/anna-/Desktop/reconst_raw/h14-raw.fif\",\n",
    "         \"/mnt/c/Users/anna-/Desktop/reconst_raw/s01-raw.fif\",\n",
    "         \"/mnt/c/Users/anna-/Desktop/reconst_raw/s02-raw.fif\",\n",
    "         \"/mnt/c/Users/anna-/Desktop/reconst_raw/s03-raw.fif\",\n",
    "         \"/mnt/c/Users/anna-/Desktop/reconst_raw/s04-raw.fif\",\n",
    "         \"/mnt/c/Users/anna-/Desktop/reconst_raw/s05-raw.fif\",\n",
    "         \"/mnt/c/Users/anna-/Desktop/reconst_raw/s06-raw.fif\",\n",
    "         \"/mnt/c/Users/anna-/Desktop/reconst_raw/s07-raw.fif\",\n",
    "         \"/mnt/c/Users/anna-/Desktop/reconst_raw/s08-raw.fif\",\n",
    "         \"/mnt/c/Users/anna-/Desktop/reconst_raw/s09-raw.fif\",\n",
    "         \"/mnt/c/Users/anna-/Desktop/reconst_raw/s10-raw.fif\",\n",
    "         \"/mnt/c/Users/anna-/Desktop/reconst_raw/s11-raw.fif\",\n",
    "         \"/mnt/c/Users/anna-/Desktop/reconst_raw/s12-raw.fif\",\n",
    "         \"/mnt/c/Users/anna-/Desktop/reconst_raw/s13-raw.fif\",\n",
    "         \"/mnt/c/Users/anna-/Desktop/reconst_raw/s14-raw.fif\"]"
   ]
  },
  {
   "cell_type": "code",
   "execution_count": null,
   "id": "33d95127",
   "metadata": {},
   "outputs": [],
   "source": [
    "#define all files which count to \"healthy\"\n",
    "healthy = [\"/mnt/c/Users/anna-/Desktop/reconst_raw/h01-raw.fif\",\n",
    "         \"/mnt/c/Users/anna-/Desktop/reconst_raw/h02-raw.fif\",\n",
    "         \"/mnt/c/Users/anna-/Desktop/reconst_raw/h03-raw.fif\",\n",
    "         \"/mnt/c/Users/anna-/Desktop/reconst_raw/h04-raw.fif\",\n",
    "         \"/mnt/c/Users/anna-/Desktop/reconst_raw/h05-raw.fif\",\n",
    "         \"/mnt/c/Users/anna-/Desktop/reconst_raw/h06-raw.fif\",\n",
    "         \"/mnt/c/Users/anna-/Desktop/reconst_raw/h07-raw.fif\",\n",
    "         \"/mnt/c/Users/anna-/Desktop/reconst_raw/h08-raw.fif\",\n",
    "         \"/mnt/c/Users/anna-/Desktop/reconst_raw/h09-raw.fif\",\n",
    "         \"/mnt/c/Users/anna-/Desktop/reconst_raw/h10-raw.fif\",\n",
    "         \"/mnt/c/Users/anna-/Desktop/reconst_raw/h11-raw.fif\",\n",
    "         \"/mnt/c/Users/anna-/Desktop/reconst_raw/h12-raw.fif\",\n",
    "         \"/mnt/c/Users/anna-/Desktop/reconst_raw/h13-raw.fif\",\n",
    "         \"/mnt/c/Users/anna-/Desktop/reconst_raw/h14-raw.fif\"]"
   ]
  },
  {
   "cell_type": "code",
   "execution_count": null,
   "id": "7c4391b0",
   "metadata": {},
   "outputs": [],
   "source": [
    "#define all files which count to \"schizophrenic\"\n",
    "schizo = [\"/mnt/c/Users/anna-/Desktop/reconst_raw/s01-raw.fif\",\n",
    "         \"/mnt/c/Users/anna-/Desktop/reconst_raw/s02-raw.fif\",\n",
    "         \"/mnt/c/Users/anna-/Desktop/reconst_raw/s03-raw.fif\",\n",
    "         \"/mnt/c/Users/anna-/Desktop/reconst_raw/s04-raw.fif\",\n",
    "         \"/mnt/c/Users/anna-/Desktop/reconst_raw/s05-raw.fif\",\n",
    "         \"/mnt/c/Users/anna-/Desktop/reconst_raw/s06-raw.fif\",\n",
    "         \"/mnt/c/Users/anna-/Desktop/reconst_raw/s07-raw.fif\",\n",
    "         \"/mnt/c/Users/anna-/Desktop/reconst_raw/s08-raw.fif\",\n",
    "         \"/mnt/c/Users/anna-/Desktop/reconst_raw/s09-raw.fif\",\n",
    "         \"/mnt/c/Users/anna-/Desktop/reconst_raw/s10-raw.fif\",\n",
    "         \"/mnt/c/Users/anna-/Desktop/reconst_raw/s11-raw.fif\",\n",
    "         \"/mnt/c/Users/anna-/Desktop/reconst_raw/s12-raw.fif\",\n",
    "         \"/mnt/c/Users/anna-/Desktop/reconst_raw/s13-raw.fif\",\n",
    "         \"/mnt/c/Users/anna-/Desktop/reconst_raw/s14-raw.fif\"]"
   ]
  },
  {
   "cell_type": "code",
   "execution_count": null,
   "id": "806cc171",
   "metadata": {},
   "outputs": [],
   "source": [
    "import numpy as np\n",
    "from mne.io import read_raw_fif\n",
    "from mne import Epochs\n",
    "from mne import make_fixed_length_epochs\n",
    "from mne.time_frequency import psd_welch, psd_multitaper\n",
    "from mne.viz import plot_topomap"
   ]
  },
  {
   "cell_type": "code",
   "execution_count": null,
   "id": "2730a1ac",
   "metadata": {},
   "outputs": [],
   "source": [
    "sh_ave = np.zeros((14,19))\n",
    "for n_file, file in enumerate(schizo):\n",
    "    data = read_raw_fif(file, preload=True)\n",
    "    epochs = make_fixed_length_epochs(data, duration=2.0, preload=True)\n",
    "    #epochs.plot_psd_topomap(ch_type=\"eeg\", normalize=True);\n",
    "    info = epochs.info\n",
    "    #psd, freqs = psd_welch(epochs, fmin=1.0, fmax=45.0)\n",
    "    psd, freqs = psd_multitaper(epochs, fmin=1.0, fmax=45.0, n_jobs=1)\n",
    "    psd /= psd.sum(axis=-1, keepdims=True)\n",
    "    #for example, here gamma activation\n",
    "    s_ave = psd[:,:,(freqs>30.0) & (freqs<45.0)].mean(axis=2).mean(axis=0)\n",
    "    sh_ave[n_file,:] = s_ave"
   ]
  },
  {
   "cell_type": "code",
   "execution_count": null,
   "id": "ea649eb4",
   "metadata": {},
   "outputs": [],
   "source": [
    "h_ave = np.zeros((14,19))\n",
    "for n_file, file in enumerate(healthy):\n",
    "    data = read_raw_fif(file, preload=True)\n",
    "    epochs = make_fixed_length_epochs(data, duration=2.0, preload=True)\n",
    "    #epochs.plot_psd_topomap(ch_type=\"eeg\", normalize=True);\n",
    "    info = epochs.info\n",
    "    #psd, freqs = psd_welch(epochs, fmin=1.0, fmax=45.0)\n",
    "    psd, freqs = psd_multitaper(epochs, fmin=1.0, fmax=45.0, n_jobs=1)\n",
    "    psd /= psd.sum(axis=-1, keepdims=True)\n",
    "    #for example, here gamma activation\n",
    "    s_ave = psd[:,:,(freqs>30.0) & (freqs<45.0)].mean(axis=2).mean(axis=0)\n",
    "    h_ave[n_file,:] = s_ave"
   ]
  },
  {
   "cell_type": "code",
   "execution_count": 8,
   "id": "a2ce46a3",
   "metadata": {},
   "outputs": [
    {
     "data": {
      "text/plain": [
       "['Fp2',\n",
       " 'F8',\n",
       " 'T4',\n",
       " 'T6',\n",
       " 'O2',\n",
       " 'Fp1',\n",
       " 'F7',\n",
       " 'T3',\n",
       " 'T5',\n",
       " 'O1',\n",
       " 'F4',\n",
       " 'C4',\n",
       " 'P4',\n",
       " 'F3',\n",
       " 'C3',\n",
       " 'P3',\n",
       " 'Fz',\n",
       " 'Cz',\n",
       " 'Pz']"
      ]
     },
     "execution_count": 8,
     "metadata": {},
     "output_type": "execute_result"
    }
   ],
   "source": [
    "#show all channel names\n",
    "epochs.ch_names"
   ]
  },
  {
   "cell_type": "code",
   "execution_count": null,
   "id": "be6a2788",
   "metadata": {},
   "outputs": [],
   "source": [
    "#show delta/ theta/ alpha/ beta/ gamma activation head for healthies\n",
    "plot_topomap(h_ave.mean(axis=0), info, vmin=0.001, vmax=0.005)"
   ]
  },
  {
   "cell_type": "code",
   "execution_count": null,
   "id": "a0d66424",
   "metadata": {},
   "outputs": [],
   "source": [
    "#show delta/ theta/ alpha/ beta/ gamma activation head for schizophrenics\n",
    "plot_topomap(sh_ave.mean(axis=0), info, vmin=0.001, vmax=0.005)"
   ]
  },
  {
   "cell_type": "code",
   "execution_count": null,
   "id": "85353012",
   "metadata": {},
   "outputs": [],
   "source": [
    "import seaborn\n",
    "import pandas as pd\n",
    "import matplotlib.pyplot as plt"
   ]
  },
  {
   "cell_type": "code",
   "execution_count": null,
   "id": "c2497b45",
   "metadata": {},
   "outputs": [],
   "source": [
    "#detect which electrodes might be of critical interest in comparison between healthies and schizophrenics for delta activation\n",
    "delta_healthy = pd.DataFrame({\"F8\":h_ave[:,1],\"F7\":h_ave[:,6],\"Cz\":h_ave[:,17]})\n",
    "delta_healthy[\"group\"] = np.repeat(\"healthy\",14)\n",
    "delta_schizo = pd.DataFrame({\"F8\":sh_ave[:,1],\"F7\":sh_ave[:,6],\"Cz\":sh_ave[:,17]})\n",
    "delta_schizo[\"group\"] = np.repeat(\"schizo\",14)"
   ]
  },
  {
   "cell_type": "code",
   "execution_count": null,
   "id": "820ab094",
   "metadata": {},
   "outputs": [],
   "source": [
    "#detect which electrodes might be of critical interest in comparison between healthies and schizophrenics for theta activation\n",
    "theta_healthy = pd.DataFrame({\"Fz\":h_ave[:,16],\"Cz\":h_ave[:,17]})\n",
    "theta_healthy[\"group\"] = np.repeat(\"healthy\",14)\n",
    "theta_schizo = pd.DataFrame({\"Fz\":sh_ave[:,16],\"Cz\":sh_ave[:,17]})\n",
    "theta_schizo[\"group\"] = np.repeat(\"schizo\",14)"
   ]
  },
  {
   "cell_type": "code",
   "execution_count": null,
   "id": "cab89911",
   "metadata": {},
   "outputs": [],
   "source": [
    "#detect which electrodes might be of critical interest in comparison between healthies and schizophrenics for alpha activation, btw. for alpha almost all (except temporal) electrodes could be candidates\n",
    "alpha_healthy = pd.DataFrame({\"C4\":h_ave[:,11],\"P4\":h_ave[:,12],\"F3\":h_ave[:,13],\"C3\":h_ave[:,14],\"P3\":h_ave[:,15],\"Fz\":h_ave[:,16],\"Cz\":h_ave[:,17],\"Pz\":h_ave[:,18]})\n",
    "alpha_healthy[\"group\"] = np.repeat(\"healthy\",14)\n",
    "alpha_schizo = pd.DataFrame({\"C4\":sh_ave[:,11],\"P4\":sh_ave[:,12],\"F3\":sh_ave[:,13],\"C3\":sh_ave[:,14],\"P3\":sh_ave[:,15],\"Fz\":sh_ave[:,16],\"Cz\":sh_ave[:,17],\"Pz\":sh_ave[:,18]})\n",
    "alpha_schizo[\"group\"] = np.repeat(\"schizo\",14)"
   ]
  },
  {
   "cell_type": "code",
   "execution_count": null,
   "id": "44f08128",
   "metadata": {},
   "outputs": [],
   "source": [
    "#detect which electrodes might be of critical interest in comparison between healthies and schizophrenics for beta activation\n",
    "beta_healthy = pd.DataFrame({\"T5\":h_ave[:,8]})\n",
    "beta_healthy[\"group\"] = np.repeat(\"healthy\",14)\n",
    "beta_schizo = pd.DataFrame({\"T5\":sh_ave[:,8]})\n",
    "beta_schizo[\"group\"] = np.repeat(\"schizo\",14)"
   ]
  },
  {
   "cell_type": "code",
   "execution_count": null,
   "id": "d71f3005",
   "metadata": {},
   "outputs": [],
   "source": [
    "#detect which electrodes might be of critical interest in comparison between healthies and schizophrenics for gamma activation\n",
    "gamma_healthy = pd.DataFrame({\"T4\":h_ave[:,2],\"T3\":h_ave[:,7]})\n",
    "gamma_healthy[\"group\"] = np.repeat(\"healthy\",14)\n",
    "gamma_schizo = pd.DataFrame({\"T4\":sh_ave[:,2],\"T3\":sh_ave[:,7]})\n",
    "gamma_schizo[\"group\"] = np.repeat(\"schizo\",14)"
   ]
  },
  {
   "cell_type": "code",
   "execution_count": null,
   "id": "41ad5078",
   "metadata": {},
   "outputs": [],
   "source": [
    "#define critical electrodes for delta acitvation\n",
    "delta_schizo = delta_schizo.append(delta_healthy)\n",
    "delta_schizo = delta_schizo.reset_index()\n",
    "delta_schizo = pd.melt(delta_schizo,id_vars=[\"index\",\"group\"],value_vars=[\"F8\",\"F7\",\"Cz\"])"
   ]
  },
  {
   "cell_type": "code",
   "execution_count": null,
   "id": "8c48fc85",
   "metadata": {},
   "outputs": [],
   "source": [
    "#define critical electrodes for theta acitvation\n",
    "theta_schizo = theta_schizo.append(theta_healthy)\n",
    "theta_schizo = theta_schizo.reset_index()\n",
    "theta_schizo = pd.melt(theta_schizo,id_vars=[\"index\",\"group\"],value_vars=[\"Fz\",\"Cz\"])"
   ]
  },
  {
   "cell_type": "code",
   "execution_count": null,
   "id": "2f15a144",
   "metadata": {},
   "outputs": [],
   "source": [
    "#define critical electrodes for alpha acitvation\n",
    "alpha_schizo = alpha_schizo.append(alpha_healthy)\n",
    "alpha_schizo = alpha_schizo.reset_index()\n",
    "alpha_schizo = pd.melt(alpha_schizo,id_vars=[\"index\",\"group\"],value_vars=[\"C4\",\"P4\",\"F3\",\"C3\",\"P3\",\"Fz\",\"Cz\",\"Pz\"])"
   ]
  },
  {
   "cell_type": "code",
   "execution_count": null,
   "id": "6713f9c6",
   "metadata": {},
   "outputs": [],
   "source": [
    "#define critical electrodes for beta acitvation\n",
    "beta_schizo = beta_schizo.append(beta_healthy)\n",
    "beta_schizo = beta_schizo.reset_index()\n",
    "beta_schizo = pd.melt(beta_schizo,id_vars=[\"index\",\"group\"],value_vars=[\"T5\"])"
   ]
  },
  {
   "cell_type": "code",
   "execution_count": null,
   "id": "9e528672",
   "metadata": {},
   "outputs": [],
   "source": [
    "#define critical electrodes for gamma acitvation\n",
    "gamma_schizo = gamma_schizo.append(gamma_healthy)\n",
    "gamma_schizo = gamma_schizo.reset_index()\n",
    "gamma_schizo = pd.melt(gamma_schizo,id_vars=[\"index\",\"group\"],value_vars=[\"T4\",\"T3\"])"
   ]
  },
  {
   "cell_type": "code",
   "execution_count": null,
   "id": "a2daafe3",
   "metadata": {},
   "outputs": [],
   "source": [
    "#load and show swarm and box plots for average delta activation for healthies and schizophrenics for F8, F7 and Cz\n",
    "ax = seaborn.boxplot(x=\"variable\",y=\"value\",data=delta_schizo,hue=\"group\",dodge=True,width=0.25,showfliers=False)\n",
    "for patch in ax.artists:\n",
    "    r, g, b, a = patch.get_facecolor()\n",
    "    patch.set_facecolor((r, g, b, .3))\n",
    "ax = seaborn.swarmplot(x=\"variable\",y=\"value\",data=delta_schizo,hue=\"group\",dodge=True)\n",
    "plt.legend(bbox_to_anchor=(1.05, 1), loc=2, borderaxespad=0.)"
   ]
  },
  {
   "cell_type": "code",
   "execution_count": null,
   "id": "726b46e7",
   "metadata": {},
   "outputs": [],
   "source": [
    "#load and show swarm and box plots for average theta activation for healthies and schizophrenics for Fz and Cz\n",
    "ax = seaborn.boxplot(x=\"variable\",y=\"value\",data=theta_schizo,hue=\"group\",dodge=True,width=0.25,showfliers=False)\n",
    "for patch in ax.artists:\n",
    "    r, g, b, a = patch.get_facecolor()\n",
    "    patch.set_facecolor((r, g, b, .3))\n",
    "ax = seaborn.swarmplot(x=\"variable\",y=\"value\",data=theta_schizo,hue=\"group\",dodge=True)\n",
    "plt.legend(bbox_to_anchor=(1.05, 1), loc=2, borderaxespad=0.)"
   ]
  },
  {
   "cell_type": "code",
   "execution_count": null,
   "id": "5007e3b0",
   "metadata": {},
   "outputs": [],
   "source": [
    "#load and show swarm and box plots for average alpha activation for healthies and schizophrenics for C4, P4, F3, C3, P3, Fz, Cz, Pz\n",
    "ax = seaborn.boxplot(x=\"variable\",y=\"value\",data=alpha_schizo,hue=\"group\",dodge=True,width=0.25,showfliers=False)\n",
    "for patch in ax.artists:\n",
    "    r, g, b, a = patch.get_facecolor()\n",
    "    patch.set_facecolor((r, g, b, .3))\n",
    "ax = seaborn.swarmplot(x=\"variable\",y=\"value\",data=alpha_schizo,hue=\"group\",dodge=True)\n",
    "plt.legend(bbox_to_anchor=(1.05, 1), loc=2, borderaxespad=0.)"
   ]
  },
  {
   "cell_type": "code",
   "execution_count": null,
   "id": "c7967103",
   "metadata": {},
   "outputs": [],
   "source": [
    "#load and show swarm and box plots for average beta activation for healthies and schizophrenics for T5\n",
    "ax = seaborn.boxplot(x=\"variable\",y=\"value\",data=beta_schizo,hue=\"group\",dodge=True,width=0.25,showfliers=False)\n",
    "for patch in ax.artists:\n",
    "    r, g, b, a = patch.get_facecolor()\n",
    "    patch.set_facecolor((r, g, b, .3))\n",
    "ax = seaborn.swarmplot(x=\"variable\",y=\"value\",data=beta_schizo,hue=\"group\",dodge=True)\n",
    "plt.legend(bbox_to_anchor=(1.05, 1), loc=2, borderaxespad=0.)"
   ]
  },
  {
   "cell_type": "code",
   "execution_count": null,
   "id": "e0069aa5",
   "metadata": {},
   "outputs": [],
   "source": [
    "#load and show swarm and box plots for average gamma activation for healthies and schizophrenics for T4 and T3\n",
    "ax = seaborn.boxplot(x=\"variable\",y=\"value\",data=gamma_schizo,hue=\"group\",dodge=True,width=0.25,showfliers=False)\n",
    "for patch in ax.artists:\n",
    "    r, g, b, a = patch.get_facecolor()\n",
    "    patch.set_facecolor((r, g, b, .3))\n",
    "ax = seaborn.swarmplot(x=\"variable\",y=\"value\",data=gamma_schizo,hue=\"group\",dodge=True)\n",
    "plt.legend(bbox_to_anchor=(1.05, 1), loc=2, borderaxespad=0.)"
   ]
  },
  {
   "cell_type": "code",
   "execution_count": null,
   "id": "c6b97143",
   "metadata": {},
   "outputs": [],
   "source": [
    "from scipy import stats"
   ]
  },
  {
   "cell_type": "code",
   "execution_count": null,
   "id": "a369e39f",
   "metadata": {},
   "outputs": [],
   "source": [
    "#load average delta activation of F8 for healthies and schizophrenics to compare them statistically\n",
    "h_F8 = delta_schizo.loc[(delta_schizo['variable'] == \"F8\") & (delta_schizo['group'] == \"healthy\")]\n",
    "s_F8 = delta_schizo.loc[(delta_schizo['variable'] == \"F8\") & (delta_schizo['group'] == \"schizo\")]"
   ]
  },
  {
   "cell_type": "code",
   "execution_count": 67,
   "id": "57e56d3e",
   "metadata": {},
   "outputs": [
    {
     "data": {
      "text/plain": [
       "Ttest_indResult(statistic=2.014769507827961, pvalue=0.05448583575057455)"
      ]
     },
     "execution_count": 67,
     "metadata": {},
     "output_type": "execute_result"
    }
   ],
   "source": [
    "#do independent t-test for the two variables to find out if there is a significant difference\n",
    "stats.ttest_ind(h_F8[\"value\"], s_F8[\"value\"], equal_var=False)"
   ]
  },
  {
   "cell_type": "code",
   "execution_count": null,
   "id": "76d8f6e7",
   "metadata": {},
   "outputs": [],
   "source": [
    "#load average theta activation of Cz for healthies and schizophrenics to compare them statistically\n",
    "h_Cz = theta_schizo.loc[(theta_schizo['variable'] == \"Cz\") & (theta_schizo['group'] == \"healthy\")]\n",
    "s_Cz = theta_schizo.loc[(theta_schizo['variable'] == \"Cz\") & (theta_schizo['group'] == \"schizo\")]"
   ]
  },
  {
   "cell_type": "code",
   "execution_count": 87,
   "id": "81ee8cf4",
   "metadata": {},
   "outputs": [
    {
     "data": {
      "text/plain": [
       "Ttest_indResult(statistic=0.9678150389704233, pvalue=0.342062534997258)"
      ]
     },
     "execution_count": 87,
     "metadata": {},
     "output_type": "execute_result"
    }
   ],
   "source": [
    "#do independent t-test for the two variables to find out if there is a significant difference\n",
    "stats.ttest_ind(h_Cz[\"value\"], s_Cz[\"value\"], equal_var=False)"
   ]
  },
  {
   "cell_type": "code",
   "execution_count": null,
   "id": "dd1be5a4",
   "metadata": {},
   "outputs": [],
   "source": [
    "#load average alpha activation of Pz for healthies and schizophrenics to compare them statistically\n",
    "h_Pz = alpha_schizo.loc[(alpha_schizo['variable'] == \"Pz\") & (alpha_schizo['group'] == \"healthy\")]\n",
    "s_Pz = alpha_schizo.loc[(alpha_schizo['variable'] == \"Pz\") & (alpha_schizo['group'] == \"schizo\")]"
   ]
  },
  {
   "cell_type": "code",
   "execution_count": 112,
   "id": "a4ccc2ca",
   "metadata": {},
   "outputs": [
    {
     "data": {
      "text/plain": [
       "Ttest_indResult(statistic=-0.9903178215794465, pvalue=0.33114734174667837)"
      ]
     },
     "execution_count": 112,
     "metadata": {},
     "output_type": "execute_result"
    }
   ],
   "source": [
    "#do independent t-test for the two variables to find out if there is a significant difference\n",
    "stats.ttest_ind(h_Pz[\"value\"], s_Pz[\"value\"], equal_var=False)"
   ]
  },
  {
   "cell_type": "code",
   "execution_count": null,
   "id": "bb4e0011",
   "metadata": {},
   "outputs": [],
   "source": [
    "#load average beta activation of T5 for healthies and schizophrenics to compare them statistically\n",
    "h_T5 = beta_schizo.loc[(beta_schizo['variable'] == \"T5\") & (beta_schizo['group'] == \"healthy\")]\n",
    "s_T5 = beta_schizo.loc[(beta_schizo['variable'] == \"T5\") & (beta_schizo['group'] == \"schizo\")]"
   ]
  },
  {
   "cell_type": "code",
   "execution_count": 132,
   "id": "9c381b30",
   "metadata": {},
   "outputs": [
    {
     "data": {
      "text/plain": [
       "Ttest_indResult(statistic=0.6010039892023995, pvalue=0.5536453239922046)"
      ]
     },
     "execution_count": 132,
     "metadata": {},
     "output_type": "execute_result"
    }
   ],
   "source": [
    "#do independent t-test for the two variables to find out if there is a significant difference\n",
    "stats.ttest_ind(h_T5[\"value\"], s_T5[\"value\"], equal_var=False)"
   ]
  },
  {
   "cell_type": "code",
   "execution_count": null,
   "id": "fa72a737",
   "metadata": {},
   "outputs": [],
   "source": [
    "#load average gamma activation of T3 for healthies and schizophrenics to compare them statistically\n",
    "h_T3 = gamma_schizo.loc[(gamma_schizo['variable'] == \"T3\") & (gamma_schizo['group'] == \"healthy\")]\n",
    "s_T3 = gamma_schizo.loc[(gamma_schizo['variable'] == \"T3\") & (gamma_schizo['group'] == \"schizo\")]"
   ]
  },
  {
   "cell_type": "code",
   "execution_count": 145,
   "id": "d184de1c",
   "metadata": {},
   "outputs": [
    {
     "data": {
      "text/plain": [
       "Ttest_indResult(statistic=-1.81202761730623, pvalue=0.08505950808332291)"
      ]
     },
     "execution_count": 145,
     "metadata": {},
     "output_type": "execute_result"
    }
   ],
   "source": [
    "#do independent t-test for the two variables to find out if there is a significant difference\n",
    "stats.ttest_ind(h_T3[\"value\"], s_T3[\"value\"], equal_var=False)"
   ]
  }
 ],
 "metadata": {
  "kernelspec": {
   "display_name": "Python 3",
   "language": "python",
   "name": "python3"
  },
  "language_info": {
   "codemirror_mode": {
    "name": "ipython",
    "version": 3
   },
   "file_extension": ".py",
   "mimetype": "text/x-python",
   "name": "python",
   "nbconvert_exporter": "python",
   "pygments_lexer": "ipython3",
   "version": "3.8.5"
  }
 },
 "nbformat": 4,
 "nbformat_minor": 5
}
