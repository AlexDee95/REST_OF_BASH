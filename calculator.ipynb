{
 "cells": [
  {
   "cell_type": "code",
   "execution_count": 1,
   "id": "58ecc2c3",
   "metadata": {},
   "outputs": [
    {
     "data": {
      "text/plain": [
       "'code'"
      ]
     },
     "execution_count": 1,
     "metadata": {},
     "output_type": "execute_result"
    }
   ],
   "source": [
    "\"code\""
   ]
  },
  {
   "cell_type": "code",
   "execution_count": 18,
   "id": "b6fd887e",
   "metadata": {},
   "outputs": [
    {
     "name": "stdout",
     "output_type": "stream",
     "text": [
      "first number: 4\n",
      "You want a second number? (j/n)j\n",
      "second number is5\n",
      "What do you want to do? Addition (1), Subtraction (2), Multiplication (3) or Division (4)?Multiplication\n",
      "the result is: 20\n"
     ]
    }
   ],
   "source": [
    "\"def Calculator: \"\n",
    "\n",
    "x = input (\"first number: \")\n",
    "x = int (x)\n",
    "\n",
    "a = input (\"You want a second number? (j/n)\")\n",
    "\n",
    "if a == \"j\":\n",
    "    y = input (\"second number is\")\n",
    "    y = int (y)\n",
    "    z = input (\"What do you want to do? Addition (1), Subtraction (2), Multiplication (3) or Division (4)?\")\n",
    "    \n",
    "if a == \"n\":\n",
    "    z = input (\"What do you want to do? Pow or square root?\" )\n",
    "\n",
    "if z == \"Addition\":\n",
    "    e = x+y\n",
    "    print (\"the result is:\", (e))\n",
    "\n",
    "if z == \"Subtraction\":\n",
    "    e = x-y\n",
    "    print (\"the result is:\", (e))\n",
    "\n",
    "if z == \"Multiplication\":\n",
    "    e = x*y\n",
    "    print (\"the result is:\", (e))\n",
    "    \n",
    "if z == \"Division\":\n",
    "    if y == 0:\n",
    "        print (\"Division with 0 is not possible\")\n",
    "    else:\n",
    "        e = x/y\n",
    "        print (\"the result is:\", (e))\n",
    "\n",
    "if z == \"pow\":\n",
    "    e = pow (x, x)\n",
    "    print (\"the result is:\", (e))\n",
    "\n",
    "if z == \"Square root\":\n",
    "    import math\n",
    "    e = math.sqrt (x)\n",
    "    print (\"the result is:\", (e))"
   ]
  },
  {
   "cell_type": "code",
   "execution_count": null,
   "id": "be775d35",
   "metadata": {},
   "outputs": [],
   "source": [
    "calculator ()"
   ]
  },
  {
   "cell_type": "code",
   "execution_count": null,
   "id": "4e68385b",
   "metadata": {},
   "outputs": [],
   "source": []
  }
 ],
 "metadata": {
  "kernelspec": {
   "display_name": "Python 3",
   "language": "python",
   "name": "python3"
  },
  "language_info": {
   "codemirror_mode": {
    "name": "ipython",
    "version": 3
   },
   "file_extension": ".py",
   "mimetype": "text/x-python",
   "name": "python",
   "nbconvert_exporter": "python",
   "pygments_lexer": "ipython3",
   "version": "3.8.5"
  }
 },
 "nbformat": 4,
 "nbformat_minor": 5
}
